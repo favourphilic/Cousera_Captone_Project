{
  "nbformat": 4,
  "nbformat_minor": 0,
  "metadata": {
    "colab": {
      "name": "daghub.ipynb",
      "provenance": [],
      "authorship_tag": "ABX9TyMRsCyWnEqR7vhqd9B6qn62",
      "include_colab_link": true
    },
    "kernelspec": {
      "name": "python3",
      "display_name": "Python 3"
    },
    "language_info": {
      "name": "python"
    }
  },
  "cells": [
    {
      "cell_type": "markdown",
      "metadata": {
        "id": "view-in-github",
        "colab_type": "text"
      },
      "source": [
        "<a href=\"https://colab.research.google.com/github/favourphilic/Cousera_Captone_Project/blob/main/daghub.ipynb\" target=\"_parent\"><img src=\"https://colab.research.google.com/assets/colab-badge.svg\" alt=\"Open In Colab\"/></a>"
      ]
    },
    {
      "cell_type": "code",
      "execution_count": 1,
      "metadata": {
        "id": "jGLCIyLFPXIY"
      },
      "outputs": [],
      "source": [
        "import requests\n",
        "import getpass\n",
        "import datetime"
      ]
    },
    {
      "cell_type": "code",
      "source": [
        "#@title Set Environment Variables\n",
        "\n",
        "#@markdown Enter the repository name for the project:\n",
        "REPO_NAME= \"Hello-World\" #@param {type:\"string\"}\n",
        "\n",
        "#@markdown Enter the username of your DAGsHub account:\n",
        "USER_NAME = \"favourphilic\" #@param {type:\"string\"}\n",
        "\n",
        "#@markdown Enter the email for your DAGsHub account:\n",
        "EMAIL = \"favourphilic@gmail.com\" #@param {type:\"string\"}\n",
        "\n",
        "#@markdown ---"
      ],
      "metadata": {
        "id": "IFxDjAehPdF7"
      },
      "execution_count": 2,
      "outputs": []
    },
    {
      "cell_type": "code",
      "source": [
        "r = requests.post('https://dagshub.com/api/v1/user/tokens', \n",
        "                  json={\"name\": f\"colab-token-{datetime.datetime.now()}\"}, \n",
        "                  auth=(USER_NAME, getpass.getpass('DAGsHub password:')))\n",
        "r.raise_for_status()\n",
        "TOKEN=r.json()['sha1']"
      ],
      "metadata": {
        "colab": {
          "base_uri": "https://localhost:8080/"
        },
        "id": "9sLiYRBtQUty",
        "outputId": "56178075-6b91-488f-bcfb-ae096edcaded"
      },
      "execution_count": 6,
      "outputs": [
        {
          "name": "stdout",
          "output_type": "stream",
          "text": [
            "DAGsHub password:··········\n"
          ]
        }
      ]
    },
    {
      "cell_type": "code",
      "source": [
        "!git config --global user.email {EMAIL}\n",
        "!git config --global user.name {USER_NAME}"
      ],
      "metadata": {
        "id": "JPkyeKlgRPPv"
      },
      "execution_count": 7,
      "outputs": []
    },
    {
      "cell_type": "code",
      "source": [
        "!git clone https://dagshub.com/{USER_NAME}/{REPO_NAME}.git\n",
        "\n",
        "%cd {REPO_NAME}"
      ],
      "metadata": {
        "colab": {
          "base_uri": "https://localhost:8080/"
        },
        "id": "rNTIStphRY4p",
        "outputId": "1804f746-7d77-4f1d-94ba-9f4a009e45e7"
      },
      "execution_count": 9,
      "outputs": [
        {
          "output_type": "stream",
          "name": "stdout",
          "text": [
            "Cloning into 'Hello-World'...\n",
            "fatal: could not read Username for 'https://dagshub.com': No such device or address\n",
            "[Errno 2] No such file or directory: 'Hello-World'\n",
            "/content\n"
          ]
        }
      ]
    },
    {
      "cell_type": "code",
      "source": [
        ""
      ],
      "metadata": {
        "id": "j9ZwC5GMReUU"
      },
      "execution_count": null,
      "outputs": []
    }
  ]
}